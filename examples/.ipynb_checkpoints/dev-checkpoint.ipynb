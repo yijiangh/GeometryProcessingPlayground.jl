{
 "cells": [
  {
   "cell_type": "code",
   "execution_count": 84,
   "id": "norman-firmware",
   "metadata": {},
   "outputs": [
    {
     "name": "stderr",
     "output_type": "stream",
     "text": [
      "┌ Info: Precompiling MeshIO [7269a6da-0436-5bbc-96c2-40638cbb6118]\n",
      "└ @ Base loading.jl:1313\n",
      "┌ Info: Precompiling Meshes [eacbb407-ea5a-433e-ab97-5258b1ca43fa]\n",
      "└ @ Base loading.jl:1313\n",
      "┌ Info: Precompiling MeshViz [9ecf9c4f-6e5a-4b5e-83ae-06f2c7a661d8]\n",
      "└ @ Base loading.jl:1313\n",
      "┌ Info: Precompiling GLMakie [e9467ef8-e4e7-5192-8a1a-b1aee30e663a]\n",
      "└ @ Base loading.jl:1313\n"
     ]
    }
   ],
   "source": [
    "using FileIO, MeshIO, Meshes, MeshViz\n",
    "using GLMakie"
   ]
  },
  {
   "cell_type": "code",
   "execution_count": 130,
   "id": "dependent-premises",
   "metadata": {},
   "outputs": [],
   "source": [
    "cat_mesh_ = load(joinpath(\"..\", \"data\", \"cat-00.off\"))\n",
    "lion_mesh_ = load(joinpath(\"..\", \"data\", \"lion-00.off\"));"
   ]
  },
  {
   "cell_type": "code",
   "execution_count": 131,
   "id": "inside-mixture",
   "metadata": {},
   "outputs": [],
   "source": [
    "import GeometryBasics\n",
    "function Base.convert(::Type{<:SimpleMesh}, m::GeometryBasics.Mesh)\n",
    "    points = [Meshes.Point.(p...) for p in m.position]\n",
    "    connec = [connect(Tuple(Int(offi.i)+1 for offi in c)) for c in GeometryBasics.faces(m)]\n",
    "    SimpleMesh(points, connec)\n",
    "end"
   ]
  },
  {
   "cell_type": "code",
   "execution_count": 132,
   "id": "choice-surprise",
   "metadata": {},
   "outputs": [],
   "source": [
    "cat_mesh = convert(SimpleMesh, cat_mesh_)\n",
    "lion_mesh = convert(SimpleMesh, lion_mesh_);"
   ]
  },
  {
   "cell_type": "code",
   "execution_count": 133,
   "id": "unlimited-twelve",
   "metadata": {},
   "outputs": [],
   "source": [
    "# viz(cat_mesh, showfacets =true) |> display"
   ]
  },
  {
   "cell_type": "code",
   "execution_count": 134,
   "id": "above-galaxy",
   "metadata": {},
   "outputs": [
    {
     "data": {
      "text/plain": [
       "double_plot (generic function with 1 method)"
      ]
     },
     "execution_count": 134,
     "metadata": {},
     "output_type": "execute_result"
    }
   ],
   "source": [
    "function double_plot(mesh1, mesh2; color1=:yellow, color2=:yellow, showfacets=false, landmarks=undef)\n",
    "    f = Figure()\n",
    "    ax1 = Axis3(f[1, 1], aspect = :data)\n",
    "    viz!(mesh1,vertexcolor=color1,showfacets=showfacets, showvertices=true)\n",
    "    ax2 = Axis3(f[1, 2], aspect = :data)\n",
    "    viz!(mesh2, vertexcolor=color2, showfacets=showfacets, showvertices=true)\n",
    "    return f, [ax1, ax2]\n",
    "end"
   ]
  },
  {
   "cell_type": "code",
   "execution_count": 135,
   "id": "after-organization",
   "metadata": {},
   "outputs": [
    {
     "data": {
      "text/plain": [
       "GLMakie.Screen(...)"
      ]
     },
     "execution_count": 135,
     "metadata": {},
     "output_type": "execute_result"
    }
   ],
   "source": [
    "fig, fig_axes = double_plot(cat_mesh, lion_mesh; color1=1:length(cat_mesh.points), color2=1:length(lion_mesh.points), showfacets=false)\n",
    "fig |> display"
   ]
  },
  {
   "cell_type": "code",
   "execution_count": 136,
   "id": "hearing-reference",
   "metadata": {},
   "outputs": [
    {
     "data": {
      "text/plain": [
       "5-element Vector{Vector{Int64}}:\n",
       " [3178, 1686]\n",
       " [7179, 4911]\n",
       " [6566, 4647]\n",
       " [5473, 4276]\n",
       " [2384, 1384]"
      ]
     },
     "execution_count": 136,
     "metadata": {},
     "output_type": "execute_result"
    }
   ],
   "source": [
    "# load landmark\n",
    "all_landmarks = open(joinpath(\"..\", \"data\", \"landmarks.txt\"),\"r\") do datafile\n",
    "    [parse.(Int, split(line)) for line in eachline(datafile)]\n",
    "end\n",
    "landmarks = [p .+ 1 for p in all_landmarks[1:5]]"
   ]
  },
  {
   "cell_type": "code",
   "execution_count": 137,
   "id": "seven-triple",
   "metadata": {},
   "outputs": [
    {
     "data": {
      "text/plain": [
       "GLMakie.Screen(...)"
      ]
     },
     "execution_count": 137,
     "metadata": {},
     "output_type": "execute_result"
    }
   ],
   "source": [
    "# visualize landmarks\n",
    "meshes = [cat_mesh, lion_mesh]\n",
    "for i in [1,2]\n",
    "    cat_landmarks_x = [meshes[i].points[pp[i]].coords[1] for pp in landmarks]\n",
    "    cat_landmarks_y = [meshes[i].points[pp[i]].coords[2] for pp in landmarks]\n",
    "    cat_landmarks_z = [meshes[i].points[pp[i]].coords[3] for pp in landmarks]\n",
    "    meshscatter!(fig_axes[i], cat_landmarks_x,cat_landmarks_y,cat_landmarks_z, markersize = 0.01, color = 1:length(landmarks))\n",
    "end\n",
    "\n",
    "fig |> display"
   ]
  },
  {
   "cell_type": "code",
   "execution_count": 1,
   "id": "exclusive-budapest",
   "metadata": {},
   "outputs": [],
   "source": [
    "using PyCall"
   ]
  },
  {
   "cell_type": "code",
   "execution_count": 2,
   "id": "functioning-arthur",
   "metadata": {},
   "outputs": [],
   "source": [
    "py\"\"\"\n",
    "import numpy as np\n",
    "\n",
    "from pyFM.mesh import TriMesh\n",
    "from pyFM.functional import FunctionalMapping\n",
    "\n",
    "def get_fmmodel():\n",
    "    mesh1 = TriMesh('../data/cat-00.off')\n",
    "    mesh2 = TriMesh('../data/lion-00.off')\n",
    "\n",
    "    process_params = {\n",
    "        'n_ev': (35,35),  # Number of eigenvalues on source and Target\n",
    "        'landmarks': np.loadtxt('../data/landmarks.txt',dtype=int)[:5],  # loading 5 landmarks\n",
    "        'subsample_step': 5,  # In order not to use too many descriptors\n",
    "        'descr_type': 'WKS',  # WKS or HKS\n",
    "    }\n",
    "\n",
    "    model = FunctionalMapping(mesh1,mesh2)\n",
    "    model.preprocess(**process_params,verbose=True)\n",
    "    return model\n",
    "\"\"\""
   ]
  },
  {
   "cell_type": "code",
   "execution_count": 3,
   "id": "blond-andrews",
   "metadata": {},
   "outputs": [
    {
     "name": "stdout",
     "output_type": "stream",
     "text": [
      "\n",
      "Computing Laplacian spectrum\n",
      "Computing 200 eigenvectors\n",
      "\tDone in 1.71 s\n",
      "Computing 200 eigenvectors\n",
      "\tDone in 1.25 s\n",
      "\n",
      "Computing descriptors\n",
      "\tNormalizing descriptors\n",
      "\n",
      "\t120 out of 600 possible descriptors kept\n"
     ]
    },
    {
     "data": {
      "text/plain": [
       "PyObject <pyFM.functional.FunctionalMapping object at 0x00000000651F06A0>"
      ]
     },
     "execution_count": 3,
     "metadata": {},
     "output_type": "execute_result"
    }
   ],
   "source": [
    "py_FM_model = py\"get_fmmodel\"()"
   ]
  },
  {
   "cell_type": "code",
   "execution_count": 49,
   "id": "handed-concord",
   "metadata": {},
   "outputs": [
    {
     "name": "stderr",
     "output_type": "stream",
     "text": [
      "WARNING: redefinition of constant scipy_sparse_find. This may fail, cause incorrect answers, or produce other errors.\n"
     ]
    },
    {
     "data": {
      "text/plain": [
       "mysparse (generic function with 1 method)"
      ]
     },
     "execution_count": 49,
     "metadata": {},
     "output_type": "execute_result"
    }
   ],
   "source": [
    "using SparseArrays\n",
    "const scipy_sparse_find = pyimport(\"scipy.sparse\")[\"find\"]\n",
    "# convert py sparse matrix to a Julia sparse array\n",
    "function mysparse(Apy::PyObject)\n",
    "    IA, JA, SA = scipy_sparse_find(Apy)\n",
    "    return sparse(Int[i+1 for i in IA], Int[i+1 for i in JA], SA)\n",
    "end"
   ]
  },
  {
   "cell_type": "code",
   "execution_count": 6,
   "id": "remarkable-indianapolis",
   "metadata": {},
   "outputs": [
    {
     "data": {
      "text/plain": [
       "35"
      ]
     },
     "execution_count": 6,
     "metadata": {},
     "output_type": "execute_result"
    }
   ],
   "source": [
    "pymesh1 = py_FM_model.mesh1\n",
    "pymesh2 = py_FM_model.mesh2\n",
    "const k1 = py_FM_model.k1\n",
    "const k2 =  py_FM_model.k2"
   ]
  },
  {
   "cell_type": "code",
   "execution_count": 32,
   "id": "wrapped-transformation",
   "metadata": {},
   "outputs": [],
   "source": [
    "py\"\"\"\n",
    "import meshplot as mp\n",
    "mp.offline()\n",
    "\n",
    "def plot_mesh(myMesh,cmap=None,file_name=\"test.html\"):\n",
    "    p = mp.plot(myMesh.vertlist, myMesh.facelist,c=cmap)\n",
    "    p.save(file_name)\n",
    "    \n",
    "def double_plot(myMesh1,myMesh2,cmap1=None,cmap2=None):\n",
    "    d = mp.subplot(myMesh1.vertlist, myMesh1.facelist, c=cmap1, s=[2, 2, 0])\n",
    "    mp.subplot(myMesh2.vertlist, myMesh2.facelist, c=cmap2, s=[2, 2, 1], data=d)\n",
    "    d.save('test.html')\n",
    "\n",
    "def visu(vertices):\n",
    "    min_coord,max_coord = np.min(vertices,axis=0,keepdims=True),np.max(vertices,axis=0,keepdims=True)\n",
    "    cmap = (vertices-min_coord)/(max_coord-min_coord)\n",
    "    return cmap\n",
    "\"\"\""
   ]
  },
  {
   "cell_type": "markdown",
   "id": "dangerous-prime",
   "metadata": {},
   "source": [
    "$\\newcommand{\\RR}{\\mathbb{R}}$\n",
    "$\\newcommand{\\uargmin}[1]{\\underset{#1}{\\text{argmin}}\\;}$\n",
    "$\\newcommand{\\uargmax}[1]{\\underset{#1}{\\text{argmax}}\\;}$\n",
    "$\\def\\*#1{\\mathbf{#1}}$\n",
    "\n",
    "The fitting optimization problem is\n",
    "\\begin{equation}\n",
    "\\uargmin{\\*C\\in\\RR^{k_2\\times k_1}} \\mu_{descr}\\|\\*C\\*A - \\*B\\|^2 + \\mu_{lap}\\|\\*C\\Delta_1 - \\Delta_2\\*C\\|^2 + \\mu_{\\text{descr comm}}\\sum_i \\|\\*C\\Gamma_1^i - \\Gamma_2^i\\*C\\|^2 + \\mu_{\\text{orient}}\\sum_i \\|\\*C\\Lambda_1^i - \\Lambda_2^i\\*C\\|^2\n",
    "\\end{equation}\n",
    "\n",
    "with $\\Gamma_1^i$ and $\\Gamma_2^i$ [multipliative operators](http://www.lix.polytechnique.fr/~maks/papers/fundescEG17.pdf) associated to the $i$-th descriptors, $\\Lambda_1^i$ and $\\Lambda_2^i$ [orientation preserving operators](https://arxiv.org/abs/1806.04455) associated to the $i$-th descriptors"
   ]
  },
  {
   "cell_type": "code",
   "execution_count": 50,
   "id": "tutorial-subsection",
   "metadata": {},
   "outputs": [
    {
     "data": {
      "text/plain": [
       "0"
      ]
     },
     "execution_count": 50,
     "metadata": {},
     "output_type": "execute_result"
    }
   ],
   "source": [
    "descr_μ = 1e0 # descr_preservation\n",
    "lap_μ = 1e-2 # LB_commutation\n",
    "descr_comm_μ = 1e-1 # oplist_commutation\n",
    "\n",
    "orient_μ = 0"
   ]
  },
  {
   "cell_type": "code",
   "execution_count": 52,
   "id": "caroline-channels",
   "metadata": {},
   "outputs": [
    {
     "data": {
      "text/plain": [
       "compute_descr_op"
      ]
     },
     "execution_count": 52,
     "metadata": {},
     "output_type": "execute_result"
    }
   ],
   "source": [
    "# Compute multiplicative operators associated to each descriptor\n",
    "\"\"\"\n",
    "Compute the multiplication operators associated with the descriptors\n",
    "\n",
    "Output\n",
    "======\n",
    "operators : n_descr long list of ((k1,k1),(k2,k2)) operators.\n",
    "\"\"\"\n",
    "function compute_descr_op(pymesh1, pymesh2, descr1, descr2, k1, k2)\n",
    "    pinv1 = pymesh1.eigenvectors[:, 1:k1]' * mysparse(pymesh1.A)  # (k1,n)\n",
    "    pinv2 = pymesh2.eigenvectors[:, 1:k2]' * mysparse(pymesh2.A)  # (k2,n)\n",
    "    list_descr = [\n",
    "                  (pinv1 * (descr1[:, i] .* pymesh1.eigenvectors[:, 1:k1]),\n",
    "                   pinv2 * (descr2[:, i] .* pymesh2.eigenvectors[:, 1:k2])\n",
    "                   )\n",
    "                  for i in 1:size(descr1, 2)\n",
    "                  ]\n",
    "    return list_descr\n",
    "end"
   ]
  },
  {
   "cell_type": "code",
   "execution_count": 53,
   "id": "transparent-singing",
   "metadata": {},
   "outputs": [],
   "source": [
    "list_descr = compute_descr_op(pymesh1, pymesh2, py_FM_model.descr1, py_FM_model.descr2, k1, k2);  \n",
    "# (n_descr, ((k1,k1), (k2,k2)) )"
   ]
  },
  {
   "cell_type": "code",
   "execution_count": 54,
   "id": "vocational-wallpaper",
   "metadata": {},
   "outputs": [],
   "source": [
    "# Compute multiplicative operators associated to each descriptor\n",
    "# skip for now"
   ]
  },
  {
   "cell_type": "code",
   "execution_count": 55,
   "id": "rocky-coating",
   "metadata": {},
   "outputs": [],
   "source": [
    "# Compute the squared differences between eigenvalues for LB commutativity\n",
    "using LinearAlgebra\n",
    "\n",
    "ev_sqdiff = (pymesh1.eigenvalues[1:k1]' .- pymesh1.eigenvalues[1:k2]).^2\n",
    "ev_sqdiff /= LinearAlgebra.norm(ev_sqdiff);"
   ]
  },
  {
   "cell_type": "code",
   "execution_count": 116,
   "id": "44ffb514-0f00-4524-bda8-1abc7cd6f53a",
   "metadata": {},
   "outputs": [
    {
     "data": {
      "text/plain": [
       "GLMakie.Screen(...)"
      ]
     },
     "execution_count": 116,
     "metadata": {},
     "output_type": "execute_result"
    }
   ],
   "source": [
    "viz_fm_matrix(ev_sqdiff) |> display"
   ]
  },
  {
   "cell_type": "code",
   "execution_count": 56,
   "id": "popular-gilbert",
   "metadata": {},
   "outputs": [
    {
     "data": {
      "text/plain": [
       "1.2425867898388572"
      ]
     },
     "execution_count": 56,
     "metadata": {},
     "output_type": "execute_result"
    }
   ],
   "source": [
    "# initial map guess\n",
    "# Sets the equivalence between the constant functions\n",
    "x0 = zeros(Float64, k2, k1)\n",
    "\n",
    "ev_sign = sign.(pymesh1.eigenvectors[1,1]*pymesh2.eigenvectors[1,1])\n",
    "area_ratio = sqrt.(pymesh2.area/pymesh1.area)\n",
    "\n",
    "x0[:,1] = zeros(k2)\n",
    "x0[1,1] = ev_sign * area_ratio"
   ]
  },
  {
   "cell_type": "code",
   "execution_count": 57,
   "id": "suited-heaven",
   "metadata": {},
   "outputs": [
    {
     "data": {
      "text/plain": [
       "viz_fm_matrix (generic function with 1 method)"
      ]
     },
     "execution_count": 57,
     "metadata": {},
     "output_type": "execute_result"
    }
   ],
   "source": [
    "function viz_fm_matrix(FM)\n",
    "    hfig = Figure()\n",
    "    ax, hm = heatmap(hfig[1, 1], FM)\n",
    "    Colorbar(hfig[1, 2], hm)\n",
    "    hfig\n",
    "end"
   ]
  },
  {
   "cell_type": "code",
   "execution_count": 117,
   "id": "developmental-nowhere",
   "metadata": {},
   "outputs": [
    {
     "data": {
      "text/plain": [
       "GLMakie.Screen(...)"
      ]
     },
     "execution_count": 117,
     "metadata": {},
     "output_type": "execute_result"
    }
   ],
   "source": [
    "viz_fm_matrix(x0) |> display"
   ]
  },
  {
   "cell_type": "markdown",
   "id": "voluntary-emphasis",
   "metadata": {},
   "source": [
    "## optimization objectives"
   ]
  },
  {
   "cell_type": "code",
   "execution_count": 120,
   "id": "nutritional-recipient",
   "metadata": {},
   "outputs": [
    {
     "data": {
      "text/plain": [
       "descr_preservation_grad"
      ]
     },
     "execution_count": 120,
     "metadata": {},
     "output_type": "execute_result"
    }
   ],
   "source": [
    "\"\"\"\n",
    "Compute the descriptor preservation constraint\n",
    "\n",
    "Parameters\n",
    "=========\n",
    "C      : (K2,K1) Functional map\n",
    "descr1 : (K1,p) descriptors on first basis\n",
    "descr2 : (K2,p) descriptros on second basis\n",
    "\n",
    "Output\n",
    "========\n",
    "energy : descriptor preservation squared norm\n",
    "\"\"\"\n",
    "function descr_preservation(C, descr1, descr2)\n",
    "    0.5 * sum((C * descr1 - descr2).^2)\n",
    "end\n",
    "\n",
    "\"\"\"\n",
    "Compute the gradient of the descriptor preservation constraint\n",
    "\n",
    "Parameters\n",
    "---------------------\n",
    "C      : (K2,K1) Functional map\n",
    "descr1 : (K1,p) descriptors on first basis\n",
    "descr2 : (K2,p) descriptros on second basis\n",
    "\n",
    "Output\n",
    "---------------------\n",
    "gradient : gradient of the descriptor preservation squared norm\n",
    "\"\"\"\n",
    "function descr_preservation_grad(C, descr1, descr2)\n",
    "    return (C * descr1 - descr2) * descr1'\n",
    "end"
   ]
  },
  {
   "cell_type": "code",
   "execution_count": 59,
   "id": "educational-applicant",
   "metadata": {},
   "outputs": [
    {
     "data": {
      "text/plain": [
       "LB_commutation_grad"
      ]
     },
     "execution_count": 59,
     "metadata": {},
     "output_type": "execute_result"
    }
   ],
   "source": [
    "\"\"\"\n",
    "Compute the LB commutativity constraint\n",
    "\n",
    "Parameters\n",
    "===========\n",
    "C      : (K2,K1) Functional map\n",
    "ev_sqdiff : (K2,K1) [normalized] matrix of squared eigenvalue differences\n",
    "\n",
    "Output\n",
    "======\n",
    "energy : (float) LB commutativity squared norm\n",
    "\"\"\"\n",
    "function LB_commutation(C, ev_sqdiff)\n",
    "    0.5 * sum(C.^2 * ev_sqdiff)\n",
    "end\n",
    "\n",
    "\"\"\"\n",
    "Compute the gradient of the LB commutativity constraint\n",
    "\n",
    "Parameters\n",
    "---------------------\n",
    "C         : (K2,K1) Functional map\n",
    "ev_sqdiff : (K2,K1) [normalized] matrix of squared eigenvalue differences\n",
    "\n",
    "Output\n",
    "---------------------\n",
    "gradient : (K2,K1) gradient of the LB commutativity squared norm\n",
    "\"\"\"\n",
    "function LB_commutation_grad(C, ev_sqdiff)\n",
    "    return C * ev_sqdiff\n",
    "end"
   ]
  },
  {
   "cell_type": "code",
   "execution_count": 60,
   "id": "complete-typing",
   "metadata": {},
   "outputs": [
    {
     "data": {
      "text/plain": [
       "oplist_commutation_grad"
      ]
     },
     "execution_count": 60,
     "metadata": {},
     "output_type": "execute_result"
    }
   ],
   "source": [
    "\"\"\"\n",
    "Compute the operator commutativity constraint.\n",
    "Can be used with descriptor multiplication operator\n",
    "\n",
    "Parameters\n",
    "---------------------\n",
    "C   : (K2,K1) Functional map\n",
    "op1 : (K1,K1) operator on first basis\n",
    "op2 : (K2,K2) descriptros on second basis\n",
    "\n",
    "Output\n",
    "---------------------\n",
    "energy : (float) operator commutativity squared norm\n",
    "\"\"\"\n",
    "function op_commutation(C, op1, op2)\n",
    "    return 0.5 * sum((C * op1 - op2 * C).^2)\n",
    "end\n",
    "\n",
    "\"\"\"\n",
    "Compute the gradient of the operator commutativity constraint.\n",
    "Can be used with descriptor multiplication operator\n",
    "\n",
    "Parameters\n",
    "---------------------\n",
    "C   : (K2,K1) Functional map\n",
    "op1 : (K1,K1) operator on first basis\n",
    "op2 : (K2,K2) descriptros on second basis\n",
    "\n",
    "Output\n",
    "---------------------\n",
    "gardient : (K2,K1) gradient of the operator commutativity squared norm\n",
    "\"\"\"\n",
    "function op_commutation_grad(C, op1, op2)\n",
    "    return op2' * (op2 * C - C * op1) - (op2 * C - C * op1) * op1'\n",
    "end\n",
    "\n",
    "\n",
    "\"\"\"\n",
    "Compute the operator commutativity constraint for a list of pairs of operators\n",
    "Can be used with a list of descriptor multiplication operator\n",
    "\n",
    "Parameters\n",
    "---------------------\n",
    "C   : (K2,K1) Functional map\n",
    "op_list : list of tuple( (K1,K1), (K2,K2) ) operators on first and second basis\n",
    "\n",
    "Output\n",
    "---------------------\n",
    "energy : (float) sum of operators commutativity squared norm\n",
    "\"\"\"\n",
    "function oplist_commutation(C, op_list)\n",
    "    energy = 0\n",
    "    for (op1, op2) in op_list\n",
    "        energy += op_commutation(C, op1, op2)\n",
    "    end\n",
    "    return energy\n",
    "end\n",
    "\n",
    "\"\"\"\n",
    "Compute the gradient of the operator commutativity constraint for a list of pairs of operators\n",
    "Can be used with a list of descriptor multiplication operator\n",
    "\n",
    "Parameters\n",
    "---------------------\n",
    "C   : (K2,K1) Functional map\n",
    "op_list : list of tuple( (K1,K1), (K2,K2) ) operators on first and second basis\n",
    "\n",
    "Output\n",
    "---------------------\n",
    "gradient : (K2,K1) gradient of the sum of operators commutativity squared norm\n",
    "\"\"\"\n",
    "function oplist_commutation_grad(C, op_list)\n",
    "    gradient = similar(C)\n",
    "    fill!(gradient, 0.0)\n",
    "    for (op1, op2) in op_list\n",
    "        gradient += op_commutation_grad(C, op1, op2)\n",
    "    end\n",
    "    return gradient\n",
    "end"
   ]
  },
  {
   "cell_type": "code",
   "execution_count": 81,
   "id": "welsh-agency",
   "metadata": {},
   "outputs": [
    {
     "data": {
      "text/plain": [
       "grad_energy!"
      ]
     },
     "execution_count": 81,
     "metadata": {},
     "output_type": "execute_result"
    }
   ],
   "source": [
    "function energy_fn(C_vec)\n",
    "    C = reshape(C_vec, (k2,k1))\n",
    "    energy = 0.0\n",
    "    if descr_μ > 0\n",
    "        energy += descr_μ * descr_preservation(C, descr1_red, descr2_red)\n",
    "    end\n",
    "    if lap_μ > 0\n",
    "        energy += lap_μ * LB_commutation(C, ev_sqdiff)\n",
    "    end\n",
    "    if descr_comm_μ > 0\n",
    "        energy += descr_comm_μ * oplist_commutation(C, list_descr)\n",
    "    end\n",
    "#     if orient_mu > 0:\n",
    "#         energy += orient_mu * oplist_commutation(C, orient_op)\n",
    "\n",
    "    return energy\n",
    "end\n",
    "\n",
    "\"\"\"\n",
    "Evaluation of the gradient of the energy for standard FM computation\n",
    "\n",
    "Parameters:\n",
    "----------------------\n",
    "C               : (K2*K1) or (K2,K1) Functional map\n",
    "descr_mu        : scaling of the descriptor preservation term\n",
    "lap_mu          : scaling of the laplacian commutativity term\n",
    "descr_comm_mu   : scaling of the descriptor commutativity term\n",
    "orient_mu       : scaling of the orientation preservation term\n",
    "descr1          : (K1,p) descriptors on first basis\n",
    "descr2          : (K2,p) descriptros on second basis\n",
    "list_descr      : p-uple( (K1,K1), (K2,K2) ) operators on first and second basis\n",
    "                  related to descriptors.\n",
    "orient_op       : p-uple( (K1,K1), (K2,K2) ) operators on first and second basis\n",
    "                  related to orientation preservation operators.\n",
    "ev_sqdiff       : (K2,K1) [normalized] matrix of squared eigenvalue differences\n",
    "\n",
    "Output\n",
    "------------------------\n",
    "gradient : (K2*K1) - value of the energy\n",
    "\"\"\"\n",
    "function grad_energy!(g, C)\n",
    "    C = reshape(C, (k2,k1))\n",
    "    gradient = similar(C)\n",
    "    fill!(gradient, 0.0)\n",
    "\n",
    "    if descr_μ > 0\n",
    "        gradient += descr_μ * descr_preservation_grad(C, descr1_red, descr2_red)\n",
    "    end\n",
    "    \n",
    "    if lap_μ > 0\n",
    "        gradient += lap_μ * LB_commutation_grad(C, ev_sqdiff)\n",
    "    end\n",
    "    \n",
    "    if descr_comm_μ > 0\n",
    "        gradient += descr_comm_μ * oplist_commutation_grad(C, list_descr)\n",
    "    end\n",
    "    \n",
    "#     if orient_mu > 0:\n",
    "#         gradient += orient_mu * oplist_commutation_grad(C, orient_op)\n",
    "\n",
    "    gradient[:,1] .= 0\n",
    "    g .= reshape(gradient, k2*k1)\n",
    "end"
   ]
  },
  {
   "cell_type": "code",
   "execution_count": 78,
   "id": "91b08acc-0521-4552-8e1b-0bc2ca563a66",
   "metadata": {},
   "outputs": [
    {
     "name": "stdout",
     "output_type": "stream",
     "text": [
      "  0.013195 seconds (9.95 k allocations: 5.222 MiB, 73.97% compilation time)\n"
     ]
    },
    {
     "data": {
      "text/plain": [
       "93.6305232133181"
      ]
     },
     "execution_count": 78,
     "metadata": {},
     "output_type": "execute_result"
    }
   ],
   "source": [
    "@time energy_fn(x0)"
   ]
  },
  {
   "cell_type": "code",
   "execution_count": 76,
   "id": "58eb9f8e-158e-4f6a-ba10-08328bfb7229",
   "metadata": {},
   "outputs": [
    {
     "name": "stdout",
     "output_type": "stream",
     "text": [
      "  0.006916 seconds (1.22 k allocations: 11.585 MiB)\n"
     ]
    }
   ],
   "source": [
    "@time grad_energy(x0);"
   ]
  },
  {
   "cell_type": "code",
   "execution_count": 71,
   "id": "bright-laser",
   "metadata": {},
   "outputs": [
    {
     "name": "stderr",
     "output_type": "stream",
     "text": [
      "┌ Info: Precompiling Optim [429524aa-4258-5aef-a3af-852621145aeb]\n",
      "└ @ Base loading.jl:1313\n"
     ]
    }
   ],
   "source": [
    "using Optim"
   ]
  },
  {
   "cell_type": "code",
   "execution_count": 35,
   "id": "focused-zimbabwe",
   "metadata": {},
   "outputs": [
    {
     "name": "stdout",
     "output_type": "stream",
     "text": [
      "Iter     Function value   Gradient norm \n",
      "     0     9.363052e+01     6.578420e+01\n",
      " * time: 0.012000083923339844\n",
      "     1     6.010118e+01     2.402624e+01\n",
      " * time: 8.934999942779541\n",
      "     2     4.833240e+01     8.847396e+00\n",
      " * time: 22.09599995613098\n",
      "     3     4.483751e+01     3.880380e+00\n",
      " * time: 35.16300010681152\n",
      "     4     4.293005e+01     3.407950e+00\n",
      " * time: 48.914000034332275\n",
      "     5     4.162311e+01     2.784900e+00\n",
      " * time: 61.986000061035156\n",
      "     6     4.066034e+01     2.649547e+00\n",
      " * time: 75.10800004005432\n",
      "     7     4.007708e+01     1.484537e+00\n",
      " * time: 87.99300003051758\n",
      "     8     3.972626e+01     1.394655e+00\n",
      " * time: 100.48399996757507\n",
      "     9     3.952218e+01     8.998665e-01\n",
      " * time: 113.04800009727478\n",
      "    10     3.937219e+01     7.197819e-01\n",
      " * time: 125.85999989509583\n",
      "    11     3.927948e+01     4.239449e-01\n",
      " * time: 138.49699997901917\n",
      "    12     3.922350e+01     5.746855e-01\n",
      " * time: 150.7739999294281\n",
      "    13     3.918927e+01     2.804708e-01\n",
      " * time: 163.95000004768372\n",
      "    14     3.917008e+01     3.364822e-01\n",
      " * time: 176.79800009727478\n",
      "    15     3.915634e+01     2.217830e-01\n",
      " * time: 189.50500011444092\n"
     ]
    },
    {
     "data": {
      "text/plain": [
       " * Status: failure (reached maximum number of iterations)\n",
       "\n",
       " * Candidate solution\n",
       "    Final objective value:     3.915634e+01\n",
       "\n",
       " * Found with\n",
       "    Algorithm:     L-BFGS\n",
       "\n",
       " * Convergence measures\n",
       "    |x - x'|               = 4.80e-03 ≰ 0.0e+00\n",
       "    |x - x'|/|x'|          = 9.55e-03 ≰ 0.0e+00\n",
       "    |f(x) - f(x')|         = 1.37e-02 ≰ 0.0e+00\n",
       "    |f(x) - f(x')|/|f(x')| = 3.51e-04 ≰ 1.0e-04\n",
       "    |g(x)|                 = 2.22e-01 ≰ 1.0e-08\n",
       "\n",
       " * Work counters\n",
       "    Seconds run:   190  (vs limit Inf)\n",
       "    Iterations:    15\n",
       "    f(x) calls:    45\n",
       "    ∇f(x) calls:   45\n"
      ]
     },
     "execution_count": 35,
     "metadata": {},
     "output_type": "execute_result"
    }
   ],
   "source": [
    "res = optimize(energy_fn, reshape(x0, k2*k1), LBFGS(), \n",
    "    Optim.Options(show_trace=true, iterations = 15, f_tol=1e-4); autodiff=:forward)"
   ]
  },
  {
   "cell_type": "code",
   "execution_count": 82,
   "id": "8537b106-a1b8-4413-9774-762cff2233ce",
   "metadata": {},
   "outputs": [
    {
     "name": "stdout",
     "output_type": "stream",
     "text": [
      "Iter     Function value   Gradient norm \n",
      "     0     9.363052e+01     3.184949e+01\n",
      " * time: 0.0010001659393310547\n",
      "     1     7.683701e+01     1.345098e+01\n",
      " * time: 0.878000020980835\n",
      "     2     6.510130e+01     9.666214e+00\n",
      " * time: 0.9360001087188721\n",
      "     3     6.004698e+01     4.484454e+00\n",
      " * time: 0.9810001850128174\n",
      "     4     5.709395e+01     4.370470e+00\n",
      " * time: 1.0160000324249268\n",
      "     5     5.550407e+01     2.511215e+00\n",
      " * time: 1.0510001182556152\n",
      "     6     5.459393e+01     1.985245e+00\n",
      " * time: 1.0840001106262207\n",
      "     7     5.388069e+01     1.735180e+00\n",
      " * time: 1.1190001964569092\n",
      "     8     5.347314e+01     1.487310e+00\n",
      " * time: 1.1540000438690186\n",
      "     9     5.323387e+01     9.660572e-01\n",
      " * time: 1.188000202178955\n",
      "    10     5.307076e+01     7.539892e-01\n",
      " * time: 1.2220001220703125\n",
      "    11     5.296925e+01     5.275951e-01\n",
      " * time: 1.2599999904632568\n",
      "    12     5.290955e+01     4.267190e-01\n",
      " * time: 1.2920000553131104\n",
      "    13     5.287311e+01     2.942810e-01\n",
      " * time: 1.3270001411437988\n",
      "    14     5.285201e+01     2.783965e-01\n",
      " * time: 1.3619999885559082\n",
      "    15     5.283778e+01     2.693314e-01\n",
      " * time: 1.3980000019073486\n"
     ]
    },
    {
     "data": {
      "text/plain": [
       " * Status: failure (reached maximum number of iterations)\n",
       "\n",
       " * Candidate solution\n",
       "    Final objective value:     5.283778e+01\n",
       "\n",
       " * Found with\n",
       "    Algorithm:     L-BFGS\n",
       "\n",
       " * Convergence measures\n",
       "    |x - x'|               = 4.82e-03 ≰ 0.0e+00\n",
       "    |x - x'|/|x'|          = 3.88e-03 ≰ 0.0e+00\n",
       "    |f(x) - f(x')|         = 1.42e-02 ≰ 0.0e+00\n",
       "    |f(x) - f(x')|/|f(x')| = 2.69e-04 ≰ 1.0e-04\n",
       "    |g(x)|                 = 2.69e-01 ≰ 1.0e-08\n",
       "\n",
       " * Work counters\n",
       "    Seconds run:   1  (vs limit Inf)\n",
       "    Iterations:    15\n",
       "    f(x) calls:    45\n",
       "    ∇f(x) calls:   45\n"
      ]
     },
     "execution_count": 82,
     "metadata": {},
     "output_type": "execute_result"
    }
   ],
   "source": [
    "res = optimize(energy_fn, grad_energy!, reshape(x0, k2*k1), LBFGS(), \n",
    "    Optim.Options(show_trace=true, iterations = 15, f_tol=1e-4))"
   ]
  },
  {
   "cell_type": "code",
   "execution_count": 128,
   "id": "given-trademark",
   "metadata": {},
   "outputs": [
    {
     "data": {
      "text/plain": [
       "GLMakie.Screen(...)"
      ]
     },
     "execution_count": 128,
     "metadata": {},
     "output_type": "execute_result"
    }
   ],
   "source": [
    "FM_opt = reshape(res.minimizer, (k2,k1));\n",
    "viz_fm_matrix(FM_opt) |> display"
   ]
  },
  {
   "cell_type": "code",
   "execution_count": 125,
   "id": "cd837c13-ba57-4fc4-988d-7bc0ff47891c",
   "metadata": {},
   "outputs": [
    {
     "name": "stdout",
     "output_type": "stream",
     "text": [
      "minimum(FM_opt) = -0.5502659816557515\n",
      "maximum(FM_opt) = 1.2425867898388572\n"
     ]
    },
    {
     "data": {
      "text/plain": [
       "1.2425867898388572"
      ]
     },
     "execution_count": 125,
     "metadata": {},
     "output_type": "execute_result"
    }
   ],
   "source": [
    "@show minimum(FM_opt)\n",
    "@show maximum(FM_opt)"
   ]
  },
  {
   "cell_type": "code",
   "execution_count": 45,
   "id": "former-choir",
   "metadata": {},
   "outputs": [],
   "source": [
    "using JLD"
   ]
  },
  {
   "cell_type": "code",
   "execution_count": 85,
   "id": "6485de58-92bf-416a-aa81-517de449ae34",
   "metadata": {},
   "outputs": [],
   "source": [
    "save(\"FM_opt_w_grad.jld\", \"FM_opt\", FM_opt)"
   ]
  },
  {
   "cell_type": "code",
   "execution_count": 123,
   "id": "broadband-insight",
   "metadata": {},
   "outputs": [],
   "source": [
    "FM_opt = load(\"FM_opt_w_grad.jld\", \"FM_opt\");"
   ]
  },
  {
   "cell_type": "code",
   "execution_count": 27,
   "id": "focal-assault",
   "metadata": {},
   "outputs": [],
   "source": [
    "py\"\"\"\n",
    "import pyFM.spectral as spectral\n",
    "\n",
    "def FM_to_p2p(FM_opt, pymesh1, pymesh2):\n",
    "    return spectral.FM_to_p2p(FM_opt, pymesh1.eigenvectors, pymesh2.eigenvectors)\n",
    "\"\"\""
   ]
  },
  {
   "cell_type": "code",
   "execution_count": 87,
   "id": "accurate-collection",
   "metadata": {},
   "outputs": [],
   "source": [
    "p2p_map = py\"FM_to_p2p\"(FM_opt, pymesh1, pymesh2);"
   ]
  },
  {
   "cell_type": "code",
   "execution_count": 88,
   "id": "4c5c40ff-540d-41de-b40b-26a9e771a8ca",
   "metadata": {},
   "outputs": [],
   "source": [
    "py\"np.save\"(\"np_FM_w_grad\", FM_opt)\n",
    "py\"np.save\"(\"np_p2p_w_grad\", p2p_map)"
   ]
  },
  {
   "cell_type": "code",
   "execution_count": 112,
   "id": "68d878d6-c67e-49bb-b8bd-089b0dd2b50f",
   "metadata": {},
   "outputs": [
    {
     "data": {
      "text/plain": [
       "accuracy (generic function with 3 methods)"
      ]
     },
     "execution_count": 112,
     "metadata": {},
     "output_type": "execute_result"
    }
   ],
   "source": [
    "using Statistics\n",
    "\n",
    "function accuracy(p2p, gt_p2p, D1_geod; return_all=false, sqrt_area=nothing)\n",
    "    dists = D1_geod[p2p.+1,gt_p2p.+1]\n",
    "    if sqrt_area != nothing\n",
    "        dists ./= sqrt_area\n",
    "    end\n",
    "    if return_all\n",
    "        return mean(dists), dists\n",
    "    end\n",
    "    return mean(dists)\n",
    "end"
   ]
  },
  {
   "cell_type": "code",
   "execution_count": 93,
   "id": "3b0fe290-d02f-4162-b609-60c4cc01b3b7",
   "metadata": {
    "collapsed": true,
    "jupyter": {
     "outputs_hidden": true
    },
    "tags": []
   },
   "outputs": [
    {
     "name": "stderr",
     "output_type": "stream",
     "text": [
      "100%|██████████| 15/15 [00:41<00:00,  2.73s/it]\n"
     ]
    },
    {
     "data": {
      "text/plain": [
       "7207×7207 Matrix{Float64}:\n",
       " 0.0         0.0110308   0.0180556   …  0.32673     0.32747     0.0110056\n",
       " 0.00940081  0.0         0.00951037     0.315326    0.316066    0.0141724\n",
       " 0.0153161   0.00903885  0.0            0.313852    0.314592    0.0108462\n",
       " 0.0665902   0.0684021   0.0591114      0.350048    0.350788    0.0587313\n",
       " 0.0706805   0.0704937   0.0607846      0.346174    0.346914    0.0628848\n",
       " 0.0860992   0.0865389   0.0773665   …  0.360224    0.360964    0.0786823\n",
       " 0.0835474   0.0854069   0.0765111      0.364102    0.364841    0.0761916\n",
       " 0.0164435   0.0213075   0.0143829      0.326108    0.326848    0.00870236\n",
       " 0.0204266   0.0162888   0.00602857     0.3148      0.31554     0.0142782\n",
       " 0.0321239   0.029821    0.0189438      0.319083    0.319823    0.0244221\n",
       " 0.0287384   0.0316397   0.0230293   …  0.32826     0.329       0.0203433\n",
       " 0.117135    0.119484    0.111651       0.395253    0.395993    0.110956\n",
       " 0.117423    0.118561    0.110448       0.390022    0.390762    0.11101\n",
       " ⋮                                   ⋱              ⋮           \n",
       " 0.317134    0.30314     0.301636    …  0.0163906   0.0133965   0.31587\n",
       " 0.28968     0.275686    0.274182       0.0323327   0.0342968   0.288416\n",
       " 0.268556    0.254562    0.253058       0.0552643   0.0564513   0.267292\n",
       " 0.289046    0.275052    0.273548       0.0321165   0.034469    0.287782\n",
       " 0.267437    0.253442    0.251939       0.0562567   0.0575475   0.266173\n",
       " 0.310135    0.29614     0.294636    …  0.00992694  0.0117227   0.30887\n",
       " 0.310818    0.296823    0.295319       0.00544693  0.0101552   0.309553\n",
       " 0.319113    0.305118    0.303614       0.00596752  0.00250275  0.317849\n",
       " 0.314546    0.300552    0.299048       0.00657349  0.00706773  0.313282\n",
       " 0.315357    0.301363    0.299859       0.0         0.00488519  0.314093\n",
       " 0.319793    0.305799    0.304295    …  0.00382669  0.0         0.318529\n",
       " 0.00650318  0.0123818   0.00908445     0.324124    0.324864    0.0"
      ]
     },
     "execution_count": 93,
     "metadata": {},
     "output_type": "execute_result"
    }
   ],
   "source": [
    "A_geod = pymesh1.get_geodesic(verbose=true)"
   ]
  },
  {
   "cell_type": "code",
   "execution_count": 115,
   "id": "001a97db-94c7-4586-88ed-1ea95928d187",
   "metadata": {},
   "outputs": [
    {
     "data": {
      "text/plain": [
       "0.5960676531445763"
      ]
     },
     "execution_count": 115,
     "metadata": {},
     "output_type": "execute_result"
    }
   ],
   "source": [
    "# Load an approximate ground truth map\n",
    "ground_truth_p2p = Int.(py\"np.loadtxt\"(\"../data/lion2cat\"));\n",
    "\n",
    "accuracy(p2p_map, ground_truth_p2p, A_geod, sqrt_area=√(pymesh1.area))"
   ]
  },
  {
   "cell_type": "markdown",
   "id": "ea866c75-21cb-4f41-9710-83c4fac2eb64",
   "metadata": {},
   "source": [
    "## Misc"
   ]
  },
  {
   "cell_type": "code",
   "execution_count": 5,
   "id": "15d6725a-7ce3-4d4a-b935-6e48c134ec47",
   "metadata": {},
   "outputs": [
    {
     "data": {
      "text/plain": [
       "project (generic function with 1 method)"
      ]
     },
     "execution_count": 5,
     "metadata": {},
     "output_type": "execute_result"
    }
   ],
   "source": [
    "# Project the descriptors on the LB basis\n",
    "function project(py_mesh, func; k=undef)\n",
    "    eigen_vecs = py_mesh.eigenvectors\n",
    "    area_matrix = mysparse(py_mesh.A)\n",
    "    if k==undef\n",
    "        return eigen_vecs' * area_matrix * func\n",
    "    elseif k <= size(py_mesh.eigenvectors, 1)\n",
    "        return eigen_vecs[:,1:k]' * area_matrix * func\n",
    "    else\n",
    "         throw(DomainError(k, \"At least $k eigenvectors should be computed before projecting\"))\n",
    "    end\n",
    "end"
   ]
  },
  {
   "cell_type": "code",
   "execution_count": null,
   "id": "91ec594f-602b-4cdd-8db2-bfcc5418f6d9",
   "metadata": {},
   "outputs": [],
   "source": [
    "# Project the descriptors on the LB basis\n",
    "descr1_red = project(pymesh1, py_FM_model.descr1; k=k1)\n",
    "descr2_red = project(pymesh2, py_FM_model.descr2; k=k2);"
   ]
  }
 ],
 "metadata": {
  "kernelspec": {
   "display_name": "Julia 1.6.0-rc1",
   "language": "julia",
   "name": "julia-1.6"
  },
  "language_info": {
   "file_extension": ".jl",
   "mimetype": "application/julia",
   "name": "julia",
   "version": "1.6.0"
  }
 },
 "nbformat": 4,
 "nbformat_minor": 5
}
